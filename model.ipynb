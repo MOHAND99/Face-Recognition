{
 "cells": [
  {
   "cell_type": "markdown",
   "source": [
    "PCA Implementaion\n"
   ],
   "metadata": {
    "id": "2r5ZGkeXGr2u"
   }
  },
  {
   "cell_type": "code",
   "execution_count": 21,
   "metadata": {
    "id": "bwYQC3oPGijJ"
   },
   "outputs": [],
   "source": [
    "import numpy as np\n",
    "\n",
    "##Implementaion of Princible component analysis\n",
    "\n",
    "import pandas as pd\n",
    "import sklearn as sklearn\n",
    "from sklearn.model_selection import train_test_split\n",
    "import seaborn as sb\n",
    "from PIL import Image\n",
    "from matplotlib import image\n",
    "from matplotlib import pyplot\n",
    "import glob\n",
    "\n",
    "path = '/Users/batsh/Desktop/ORL dataset/'\n",
    "def get_all_images(path):\n",
    "    image_list = []\n",
    "    for x in range(1,41): #loop on every subject folder\n",
    "        for filename in glob.glob(path + 's' + str(x) + '/*.pgm'): #get all images inside sX folder\n",
    "            Im = Image.open(filename)\n",
    "            image_list.append(Im)\n",
    "    return image_list\n",
    "\n",
    "\n",
    "images = get_all_images(path)\n",
    "#print(len(images)) #400\n",
    "\n",
    "#convert images list to a numpy array list\n",
    "images_vector = []\n",
    "for img in images:\n",
    "    images_vector.append(np.array(img).ravel())\n",
    "\n",
    "#print(len(images_vector)) #400\n",
    "#print(images_vector[0].size) #10304\n",
    "#print(images_vector[0].shape) #10304\n",
    "\n",
    "df = pd.DataFrame(images_vector)\n",
    "y_labels = []\n",
    "for i in range(1,41):\n",
    "    for j in range(1,11):\n",
    "        y_labels.append(i)\n",
    "df['label'] = pd.Series(y_labels)\n",
    "#print(df.head())\n",
    "#print(df.tail())\n",
    "\n",
    "def PCA(D , alpha):\n",
    "  mean = np.mean(D , axis = 0)                                                    #compute mean of each dim. in the data matrix \n",
    "\n",
    "  Z =  D - mean                                                                   # center data step\n",
    "  cov_matrix = np.cov(Z , rowvar = False)                                         # covariance matrix of centered data matrix Z\n",
    "  eign_values , eign_vectors = np.linalg.eigh(cov_matrix)                         # compute the eign_val and eign_vectors of cov_matrix\n",
    "\n",
    "  sorted_index = np.argsort(eign_values)[::-1]\n",
    "  sorted_eign_values = eign_values[sorted_index]\n",
    "  sorted_eign_vectors = eign_vectors[:sorted_index]\n",
    "\n",
    "  sum_eign_values_d = np.linalg.det(sorted_eign_values)                           #compute the sum of eign_values in d dim.\n",
    "  flag = True\n",
    "  itr = 1\n",
    "\n",
    "  while(flag):\n",
    "    \n",
    "    eign_values_r = sorted_eign_values[:,0:itr]                                   #subset of eign_values matrix to get the number of new dims.\n",
    "    sum_eign_values_r = np.linalg.det(eign_values_r)                              #compute the sum of eign_Values in r dim matrix (subset)\n",
    "    \n",
    "    f_r = sum_eign_values_r / sum_eign_values_d                                   #f(r) = sum(r) / sum(d)\n",
    "    flags = f_r == alpha                                                          #check if the ratio is one of given alpha in pdf\n",
    "    \n",
    "    if(flags.any()):                                                              #if any one is ture break\n",
    "      flag = False\n",
    "      break\n",
    "    else:\n",
    "      itr = itr + 1\n",
    "  \n",
    "  projection_matrix = sorted_eign_vectors[:,0:itr]\n",
    "  reduced_data_matrix = np.dot(projection_matrix.transpose() , Z.transpose()).transpose()\n",
    "  \n",
    "  return reduced_data_matrix\n",
    "\n",
    "\n",
    "\n",
    "\n"
   ]
  }
 ],
 "metadata": {
  "interpreter": {
   "hash": "4eb24f9b113f9fa6dbe43bfdf40db8d0bb01cfe1cd58b52defcf46a1a57fa4cd"
  },
  "kernelspec": {
   "display_name": "Python 3.8.3 64-bit",
   "language": "python",
   "name": "python3"
  },
  "language_info": {
   "codemirror_mode": {
    "name": "ipython",
    "version": 3
   },
   "file_extension": ".py",
   "mimetype": "text/x-python",
   "name": "python",
   "nbconvert_exporter": "python",
   "pygments_lexer": "ipython3",
   "version": "3.9.7"
  },
  "orig_nbformat": 4,
  "colab": {
   "name": "model.ipynb",
   "provenance": [],
   "collapsed_sections": []
  }
 },
 "nbformat": 4,
 "nbformat_minor": 0
}