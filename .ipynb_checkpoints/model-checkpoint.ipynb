{
 "cells": [
  {
   "cell_type": "code",
   "execution_count": 2,
   "metadata": {
    "id": "oPknu9lAH8bd"
   },
   "outputs": [],
   "source": [
    "import pandas as pd\n",
    "import numpy as np\n",
    "import sklearn as sklearn\n",
    "import seaborn as sb\n",
    "from PIL import Image\n",
    "from matplotlib import image\n",
    "from matplotlib import pyplot\n",
    "import glob\n",
    "\n",
    "from sklearn.metrics import confusion_matrix\n",
    "from sklearn.metrics import accuracy_score\n",
    "from sklearn.model_selection import cross_val_score\n",
    "from sklearn.neighbors import KNeighborsClassifier\n",
    "\n",
    "from matplotlib import pyplot as plt\n",
    "\n"
   ]
  },
  {
   "cell_type": "markdown",
   "metadata": {
    "id": "TMEtGS5PKBJg"
   },
   "source": [
    "# Import Images from ORL dataset\n"
   ]
  },
  {
   "cell_type": "code",
   "execution_count": 3,
   "metadata": {
    "id": "8vWYDi87KICh"
   },
   "outputs": [],
   "source": [
    "def get_all_images(path):\n",
    "    image_list = []\n",
    "    for x in range(1,41): #loop on every subject folder\n",
    "        for filename in glob.glob(path + 's' + str(x) + '/*.pgm'):              #get all images inside sX folder\n",
    "            Im = Image.open(filename)\n",
    "            image_list.append(Im)\n",
    "    return image_list"
   ]
  },
  {
   "cell_type": "markdown",
   "metadata": {
    "id": "jz-0KEz89py2"
   },
   "source": [
    "# Data Setup\n"
   ]
  },
  {
   "cell_type": "code",
   "execution_count": 4,
   "metadata": {
    "id": "Izs4ZzfRGZo-"
   },
   "outputs": [],
   "source": [
    "def generate_data_matrix(path):\n",
    "  images = get_all_images(path)\n",
    "  print(len(images)) #400\n",
    "\n",
    "  #convert images list to a numpy array list\n",
    "  images_vector = []\n",
    "  for img in images:\n",
    "      images_vector.append(np.array(img).ravel())\n",
    "\n",
    "  print(len(images_vector)) #400\n",
    "  print(images_vector[0].size) #10304\n",
    "  print(images_vector[0].shape) #10304\n",
    "\n",
    "  #df = pd.DataFrame(images_vector)\n",
    "  y_labels = []\n",
    "  for i in range(1,41):\n",
    "      for j in range(1,11):\n",
    "          y_labels.append(i)\n",
    "  #df['label'] = pd.Series(y_labels)\n",
    "  labels = np.asarray(y_labels , dtype = \"int32\")\n",
    "  images_data = np.asarray(images_vector , dtype = \"int32\")\n",
    "  return images_data , labels\n"
   ]
  },
  {
   "cell_type": "markdown",
   "metadata": {
    "id": "LMH1NjuZIdAq"
   },
   "source": [
    "# The ORL dataset PATH\n"
   ]
  },
  {
   "cell_type": "code",
   "execution_count": 5,
   "metadata": {
    "colab": {
     "base_uri": "https://localhost:8080/"
    },
    "id": "ird9dbnS_F9t",
    "outputId": "683c2cf5-9232-4aad-b0e8-d270adf52f83"
   },
   "outputs": [
    {
     "ename": "ModuleNotFoundError",
     "evalue": "No module named 'google.colab'",
     "output_type": "error",
     "traceback": [
      "\u001b[1;31m---------------------------------------------------------------------------\u001b[0m",
      "\u001b[1;31mModuleNotFoundError\u001b[0m                       Traceback (most recent call last)",
      "\u001b[1;32m<ipython-input-5-d5df0069828e>\u001b[0m in \u001b[0;36m<module>\u001b[1;34m\u001b[0m\n\u001b[1;32m----> 1\u001b[1;33m \u001b[1;32mfrom\u001b[0m \u001b[0mgoogle\u001b[0m\u001b[1;33m.\u001b[0m\u001b[0mcolab\u001b[0m \u001b[1;32mimport\u001b[0m \u001b[0mdrive\u001b[0m\u001b[1;33m\u001b[0m\u001b[1;33m\u001b[0m\u001b[0m\n\u001b[0m\u001b[0;32m      2\u001b[0m \u001b[0mdrive\u001b[0m\u001b[1;33m.\u001b[0m\u001b[0mmount\u001b[0m\u001b[1;33m(\u001b[0m\u001b[1;34m'/content/drive'\u001b[0m\u001b[1;33m)\u001b[0m\u001b[1;33m\u001b[0m\u001b[1;33m\u001b[0m\u001b[0m\n",
      "\u001b[1;31mModuleNotFoundError\u001b[0m: No module named 'google.colab'"
     ]
    }
   ],
   "source": [
    "from google.colab import drive\n",
    "drive.mount('/content/drive')"
   ]
  },
  {
   "cell_type": "code",
   "execution_count": null,
   "metadata": {
    "colab": {
     "base_uri": "https://localhost:8080/"
    },
    "id": "MI2C27Y-Ibij",
    "outputId": "a9cb320f-3b76-4b14-e2ce-f2f7642be5bd"
   },
   "outputs": [],
   "source": [
    "images_data , images_label = generate_data_matrix('/content/drive/MyDrive/ORL dataset/')"
   ]
  },
  {
   "cell_type": "markdown",
   "metadata": {
    "id": "S0bIHA0MIw3P"
   },
   "source": [
    "# Split the data for training and testing sets\n"
   ]
  },
  {
   "cell_type": "code",
   "execution_count": null,
   "metadata": {
    "id": "WnD0r-u0I_0I"
   },
   "outputs": [],
   "source": [
    "# testset\n",
    "data_matrix_Test = []\n",
    "label_matrix_Test = []\n",
    "\n",
    "#trainigset\n",
    "data_matrix_Train = []\n",
    "label_matrix_Train = []\n",
    "\n",
    "for i,index in zip(range(400) , range(400)):\n",
    "  if(i % 2 == 0):\n",
    "    data_matrix_Test.append(images_data[index])\n",
    "    label_matrix_Test.append(images_label[index])\n",
    "  else:\n",
    "    data_matrix_Train.append(images_data[index])\n",
    "    label_matrix_Train.append(images_label[index])\n",
    "\n",
    "\n"
   ]
  },
  {
   "cell_type": "code",
   "execution_count": null,
   "metadata": {
    "colab": {
     "base_uri": "https://localhost:8080/"
    },
    "id": "Vfjmv_WXDoWJ",
    "outputId": "c9075e1a-a6fb-4c86-e8de-9b53ab7ae94c"
   },
   "outputs": [],
   "source": [
    "# the trainig_dataset and test_dataset\n",
    "Data_matix_test = np.asarray(data_matrix_Test , dtype = \"int32\")\n",
    "label_matix_test = np.asarray(label_matrix_Test , dtype = \"int32\")\n",
    "\n",
    "Data_matix_train = np.asarray(data_matrix_Train , dtype = \"int32\")\n",
    "label_matix_train = np.asarray(label_matrix_Train , dtype = \"int32\")\n",
    "#print(label_matrix_Test)\n",
    "\n",
    "print(Data_matix_test.shape)\n",
    "print(Data_matix_train.shape)\n",
    "print(label_matix_train.shape)\n",
    "print(label_matix_test.shape)\n"
   ]
  },
  {
   "cell_type": "markdown",
   "metadata": {
    "id": "YkRKWyG_QigM"
   },
   "source": [
    "# PCA"
   ]
  },
  {
   "cell_type": "code",
   "execution_count": null,
   "metadata": {
    "id": "bwYQC3oPGijJ"
   },
   "outputs": [],
   "source": [
    "##Implementaion of Princible component analysis\n",
    "alpha = np.array(\n",
    "    [0.8,0.85,0.9,0.95]\n",
    "    )\n",
    "\n",
    "def PCA():\n",
    "  test_matrix_mean = np.mean(Data_matix_test , axis = 0)                                #compute mean of each dim. in the data matrix \n",
    "  train_matrix_mean = np.mean(Data_matix_train , axis = 0)\n",
    "\n",
    "  test_Z =  Data_matix_test - test_matrix_mean\n",
    "  train_Z = Data_matix_train - train_matrix_mean\n",
    "                                                                                        # center data step\n",
    "  cov_train_matrix = np.cov(train_Z , rowvar = False)                                   # covariance matrix of centered data matrix Z\n",
    "  eign_values , eign_vectors = np.linalg.eigh(cov_train_matrix)                         # compute the eign_val and eign_vectors of cov_matrix\n",
    "\n",
    "  sorted_index = np.argsort(eign_values)[::-1]\n",
    "  sorted_eign_values = eign_values[sorted_index]\n",
    "  sorted_eign_vectors = eign_vectors[:,sorted_index]\n",
    "  \n",
    "  sum_eign_values_d = float(sum(sorted_eign_values))                                    #compute the sum of eign_values in d dim.\n",
    "  \n",
    "  reduced_dimention = 10304\n",
    "  #for each alpha value\n",
    "  for i in alpha:\n",
    "    \n",
    "    for itr in range(1 , 10304):\n",
    "\n",
    "      eign_values_r = sorted_eign_values[:itr]                                     #subset of eign_values matrix to get the number of new dims.\n",
    "      sum_eign_values_r = float(sum(eign_values_r))                                   #compute the sum of eign_Values in r dim matrix (subset)\n",
    "      f_r = sum_eign_values_r / sum_eign_values_d                                     #f(r) = sum(r) / sum(d)\n",
    "                                                                                      #check if the ratio is one of given alpha in pdf\n",
    "    \n",
    "      if(f_r >= i):\n",
    "        reduced_dimention = itr                                                       #if any one is ture break\n",
    "        break\n",
    "  \n",
    "    projection_matrix = sorted_eign_vectors[:,0:reduced_dimention]\n",
    "\n",
    "    reduced_data_train_matrix = np.dot(projection_matrix.transpose() , train_Z.transpose())\n",
    "    reduced_data_test_matrix = np.dot(projection_matrix.transpose() , test_Z.transpose())\n",
    "\n",
    "    print(\"For alpha: \" + str(i))\n",
    "\n",
    "    KNN_Imp(reduced_data_train_matrix,label_matix_train , reduced_data_test_matrix,label_matix_test)\n",
    "\n",
    "\n",
    "\n",
    "\n",
    "\n"
   ]
  },
  {
   "cell_type": "markdown",
   "metadata": {
    "id": "rBxyFRAzUyP8"
   },
   "source": [
    "   # KNN\n"
   ]
  },
  {
   "cell_type": "code",
   "execution_count": null,
   "metadata": {
    "id": "0hT5QIy0VC39"
   },
   "outputs": [],
   "source": [
    "def KNN_Imp(Data_train,Label_train,Data_test,Label_test):\n",
    "  neighbours = [1,3,5,7]\n",
    "  accuracy_matrix = []\n",
    "  \n",
    "  for i,neighbour in zip(range(len(neighbours)),neighbours):\n",
    "      print(\"Neig = \" + \"[\" + str(neighbour) + \"]\")\n",
    "      \n",
    "      classification_KNN = KNeighborsClassifier(n_neighbors = neighbour) \n",
    "      classification_KNN.fit(Data_train.transpose(), Label_train) \n",
    "      output = classification_KNN.predict(Data_test.transpose())\n",
    "      accuracy_matrix.append(accuracy_score(output,Label_test)) \n",
    "     \n",
    "      print(\"Accuracy_Sc is: \" + str(accuracy_matrix[i]))\n",
    "     \n",
    "      count = 0\n",
    "      for i in range(len(output)):          \n",
    "          if((output[i]) != (Label_test[i])):\n",
    "              count+=1\n",
    "      \n",
    "      print(\"Numbers_of_wrong_classifications=  \" + str(count) + \"\\n\")\n",
    "      #plt.plot(accuracy_matrix,neighbours)\n",
    "      #plt.show()\n"
   ]
  },
  {
   "cell_type": "code",
   "execution_count": null,
   "metadata": {
    "colab": {
     "base_uri": "https://localhost:8080/"
    },
    "id": "pc2QXBTnED69",
    "outputId": "45f3f686-68eb-4897-9124-7ae5419a8c08"
   },
   "outputs": [],
   "source": [
    "PCA()"
   ]
  },
  {
   "cell_type": "code",
   "execution_count": null,
   "metadata": {},
   "outputs": [],
   "source": [
    "def LDA(X, y, r):\n",
    "    dimesions = X.shape[1]\n",
    "\n",
    "    # calculating the mean of the classes\n",
    "    mean_vectors = np.empty((noOfClasses, dimesions))\n",
    "    for cl in range(0, noOfClasses):\n",
    "        mean_vectors[cl] = np.mean(X[y==cl+1], axis=0, keepdims=True)    \n",
    "    overall_mean = np.mean(X, axis=0, keepdims=True)\n",
    "    centered_means = mean_vectors - overall_mean\n",
    "\n",
    "    B = np.zeros((dimesions, dimesions))\n",
    "    for i, _ in enumerate(mean_vectors):  \n",
    "        ni = X[y==i+1,:].shape[0]\n",
    "        B += ni * (centered_means).T.dot(centered_means)\n",
    "\n",
    "    S = np.zeros((dimesions, dimesions)) \n",
    "    for cl, mean in zip(range(0, noOfClasses), mean_vectors):\n",
    "        # scatter matrix for every class\n",
    "        z = X[y == cl+1] - mean\n",
    "        print(f'calculating S {cl+1}')\n",
    "        S += z.T.dot(z) \n",
    "    s_inv = LA.pinv(S)\n",
    "\n",
    "    eig_vals, eig_vecs = LA.eig(np.dot(s_inv, B)) \n",
    "    print(eig_vecs[:,(-eig_vals).argsort()[:r]])"
   ]
  }
 ],
 "metadata": {
  "colab": {
   "collapsed_sections": [],
   "name": "model.ipynb",
   "provenance": []
  },
  "interpreter": {
   "hash": "4eb24f9b113f9fa6dbe43bfdf40db8d0bb01cfe1cd58b52defcf46a1a57fa4cd"
  },
  "kernelspec": {
   "display_name": "Python 3",
   "language": "python",
   "name": "python3"
  },
  "language_info": {
   "codemirror_mode": {
    "name": "ipython",
    "version": 3
   },
   "file_extension": ".py",
   "mimetype": "text/x-python",
   "name": "python",
   "nbconvert_exporter": "python",
   "pygments_lexer": "ipython3",
   "version": "3.8.5"
  }
 },
 "nbformat": 4,
 "nbformat_minor": 1
}
